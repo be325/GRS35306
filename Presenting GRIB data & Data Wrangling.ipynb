import xarray as xr
import matplotlib.pyplot as plt
import pygrib as pygrib
import pandas as pd
import os

# Path to your GRIB file
grib_folder = f"/Users/Bella/{latest_folder}"                                    #change the path to your own path
grib_files = os.listdir(grib_folder)
grib_file = os.path.join(grib_folder, max(grib_files))

# Open a GRIB file
grbs = pygrib.open(grib_file)

#get the messages of parameter 61 (precipitation) and 66 (snow)
precip = grbs[43]
snow = grbs[42]
print(precip)                                                                                                                                                                                                                                              
print(snow)
print(" ")

#get latitudes, longitudes and the values of precipitation / snow depth as arrays
lats = grbs[43].latlons()[0]
longs = grbs[43].latlons()[1]
precipArray = precip.values
snowArray = snow.values

#convert everything to dataframes
df_lats = pd.DataFrame(lats)
df_longs = pd.DataFrame(longs)
df_precip = pd.DataFrame(precipArray)
df_snow = pd.DataFrame(snowArray)

df_combined = pd.DataFrame({
    'Latitude': df_lats.values.flatten(),
    'Longitude': df_longs.values.flatten(),
    'Precipitation': df_precip.values.flatten(),
    'Snow': df_snow.values.flatten()
})

print(df_combined)
